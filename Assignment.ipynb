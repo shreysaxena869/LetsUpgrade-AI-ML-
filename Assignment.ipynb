{
 "cells": [
  {
   "cell_type": "markdown",
   "metadata": {},
   "source": [
    "# Write a program to subtract two complex number in Python"
   ]
  },
  {
   "cell_type": "code",
   "execution_count": 3,
   "metadata": {},
   "outputs": [
    {
     "name": "stdout",
     "output_type": "stream",
     "text": [
      "Enter first complex number 3+2j\n",
      "Enter Second complex number 1+1j\n",
      "The difference is (2+1j)\n"
     ]
    }
   ],
   "source": [
    "a=complex(input(\"Enter first complex number \"))\n",
    "b=complex(input(\"Enter Second complex number \"))\n",
    "print(\"The difference is\" + \" \" + str(a-b))"
   ]
  },
  {
   "cell_type": "markdown",
   "metadata": {},
   "source": [
    "# Write a program to find the fourth root of a number"
   ]
  },
  {
   "cell_type": "code",
   "execution_count": 5,
   "metadata": {},
   "outputs": [
    {
     "name": "stdout",
     "output_type": "stream",
     "text": [
      "Enter number 16\n",
      "The fourth root of number is 4.0\n"
     ]
    }
   ],
   "source": [
    "n=float(input(\"Enter number \"))\n",
    "z=n**1/4\n",
    "print(\"The fourth root of number is\" +' ' + str(z) )"
   ]
  },
  {
   "cell_type": "markdown",
   "metadata": {},
   "source": [
    "# Write a program to swap two numbers in python with the help of a temporary variable "
   ]
  },
  {
   "cell_type": "code",
   "execution_count": 2,
   "metadata": {},
   "outputs": [
    {
     "name": "stdout",
     "output_type": "stream",
     "text": [
      "Enter first number 4\n",
      "Enter second number 5\n",
      "first number after swapping 5\n",
      "Second number after swapping 4\n"
     ]
    }
   ],
   "source": [
    "a=input(\"Enter first number \")\n",
    "b=input(\"Enter second number \")\n",
    "z=a\n",
    "a=b\n",
    "b=z\n",
    "print(\"first number after swapping\" +' '+ str(a))\n",
    "print(\"Second number after swapping\" +' ' + str(b))"
   ]
  },
  {
   "cell_type": "markdown",
   "metadata": {},
   "source": [
    "# Write a program to swap two numbers without using temporary variables"
   ]
  },
  {
   "cell_type": "code",
   "execution_count": 5,
   "metadata": {},
   "outputs": [
    {
     "name": "stdout",
     "output_type": "stream",
     "text": [
      "Enter first number 4\n",
      "Enter Second number 5\n",
      "first number after swapping  5\n",
      "first number after swapping  4\n"
     ]
    }
   ],
   "source": [
    "a=int(input(\"Enter first number \"))\n",
    "b=int(input(\"Enter Second number \"))\n",
    "a=a+b\n",
    "b=a-b\n",
    "a=a-b\n",
    "print(\"first number after swapping \"+' '+ str(a))\n",
    "print(\"first number after swapping \"+' '+str(b))"
   ]
  },
  {
   "cell_type": "markdown",
   "metadata": {},
   "source": [
    "# Write a program to convert farenheit to kelvin and celcius both"
   ]
  },
  {
   "cell_type": "code",
   "execution_count": 10,
   "metadata": {},
   "outputs": [
    {
     "name": "stdout",
     "output_type": "stream",
     "text": [
      "Enter temp in fahrenheit 96\n",
      "The temperature in celcius is 35.55555555555556\n",
      "The temperature in kelvin is 308.55555555555554\n"
     ]
    }
   ],
   "source": [
    "temp=float(input(\"Enter temp in fahrenheit \"))\n",
    "celsius=((temp-32)*5/9)\n",
    "kelvin=(273+ celsius)\n",
    "print(\"The temperature in celcius is\"+ ' '+ str(celsius))\n",
    "print(\"The temperature in kelvin is\"+' '+ str(kelvin))"
   ]
  },
  {
   "cell_type": "markdown",
   "metadata": {},
   "source": [
    "# Write a program to demonstrate all the available data types in Python. Hint: Use type() function. "
   ]
  },
  {
   "cell_type": "code",
   "execution_count": 11,
   "metadata": {},
   "outputs": [
    {
     "name": "stdout",
     "output_type": "stream",
     "text": [
      "<class 'int'>\n",
      "<class 'float'>\n",
      "<class 'complex'>\n",
      "<class 'str'>\n",
      "<class 'tuple'>\n",
      "<class 'list'>\n",
      "<class 'bool'>\n",
      "<class 'set'>\n",
      "<class 'dict'>\n"
     ]
    }
   ],
   "source": [
    "print(type(3)) #numeric\n",
    "print(type(3.0)) #float\n",
    "print(type(1+2j))#complex number\n",
    "print(type(\"shrey\")) #string\n",
    "print(type((1,2))) #tuple\n",
    "print(type([1,2]))#list\n",
    "print(type(True)) #boolean\n",
    "print(type({1,2})) #set\n",
    "print(type({1:2}))#dict"
   ]
  },
  {
   "cell_type": "code",
   "execution_count": null,
   "metadata": {},
   "outputs": [],
   "source": []
  }
 ],
 "metadata": {
  "kernelspec": {
   "display_name": "Python 3",
   "language": "python",
   "name": "python3"
  },
  "language_info": {
   "codemirror_mode": {
    "name": "ipython",
    "version": 3
   },
   "file_extension": ".py",
   "mimetype": "text/x-python",
   "name": "python",
   "nbconvert_exporter": "python",
   "pygments_lexer": "ipython3",
   "version": "3.7.1"
  }
 },
 "nbformat": 4,
 "nbformat_minor": 2
}
