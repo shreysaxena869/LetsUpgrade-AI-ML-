{
 "cells": [
  {
   "cell_type": "markdown",
   "metadata": {},
   "source": [
    "Write a Python program to find the first 20 non-even prime natural numbers."
   ]
  },
  {
   "cell_type": "code",
   "execution_count": 1,
   "metadata": {},
   "outputs": [
    {
     "name": "stdout",
     "output_type": "stream",
     "text": [
      "3 5 7 11 13 17 19 23 29 31 37 41 43 47 53 59 61 67 71 73 "
     ]
    }
   ],
   "source": [
    "s=0\n",
    "i=2\n",
    "while s<20:\n",
    "    c=0\n",
    "    for j in range(1,i+1):\n",
    "        if i%2!=0:\n",
    "            if  i%j==0:\n",
    "                c+=1\n",
    "    if c==2:\n",
    "        print(i,end=' ')\n",
    "        s+=1\n",
    "        i+=1\n",
    "    else:\n",
    "        i+=1"
   ]
  },
  {
   "cell_type": "markdown",
   "metadata": {},
   "source": [
    "Write a Python program to implement 15 functions of string."
   ]
  },
  {
   "cell_type": "code",
   "execution_count": 2,
   "metadata": {},
   "outputs": [
    {
     "name": "stdout",
     "output_type": "stream",
     "text": [
      "True\n",
      "True\n",
      "False\n",
      "True\n",
      "False\n",
      "False\n",
      "shrey\n",
      "False\n",
      "SHREY\n",
      "['SHREY']\n",
      "5\n",
      "True\n",
      "Shrey\n",
      "0\n",
      "SHREY\n"
     ]
    }
   ],
   "source": [
    "a=\"SHREY\"\n",
    "print(a.isalnum()) # return true if string is alphanumeric\n",
    "print(a.isalpha()) # return true if characters are alphabet\n",
    "print(a.isdigit()) # return if characters are digit\n",
    "print(a.isupper()) # return if characters are in uppercase\n",
    "print(a.islower()) # return if characters are in lowercase\n",
    "print(a.isnumeric()) # return if all characters are numeric\n",
    "print(a.swapcase()) # change uppercase to lowercase and vice versa\n",
    "print(a.isspace()) # returns true if only white space are used in a string\n",
    "print(a.upper()) #change it to uppercase\n",
    "print(a.split()) # converts strings into a list\n",
    "print(len(a)) # tells the length of string\n",
    "print(a.isprintable()) #gives true if all the characters in a list are printable\n",
    "print(a.capitalize()) # returns the capitalize version of string\n",
    "print(a.index(a)) # returns where the lowest index is found of the substring\n",
    "print(a.strip()) # used to trim white spaces in a string"
   ]
  },
  {
   "cell_type": "markdown",
   "metadata": {},
   "source": [
    "Write a Python program to check if the given string is a Palindrome or Anagram or None of them. Display\n",
    "the message accordingly to the user."
   ]
  },
  {
   "cell_type": "code",
   "execution_count": null,
   "metadata": {},
   "outputs": [
    {
     "name": "stdout",
     "output_type": "stream",
     "text": [
      "Find palindrome or anagram \n"
     ]
    }
   ],
   "source": [
    "print(\"Find palindrome or anagram \")\n",
    "choice=input()\n",
    "if(choice=='palindrome'):\n",
    "    def palindrome(s):\n",
    "        return s==s[::-1]\n",
    "    s=input(\"Enter the strin to check for palindrome \")\n",
    "    ans= palindrome(s)\n",
    "    if ans==True:\n",
    "        print(\"Yes it's a plaindrome\")\n",
    "    else:\n",
    "        print(\"NO\")\n",
    "elif(choice=='anagram'):\n",
    "    def anagram(s1,s2):\n",
    "        return sorted(s1)==sorted(s2)\n",
    "    s1=input(\"Enter string 1\")\n",
    "    s2=input(\"Enter string 2\")\n",
    "    out=anagram(s1,s2)\n",
    "    if out==True:\n",
    "        print('Its an anagram')\n",
    "    else:\n",
    "        print(\"No\")\n",
    "        \n",
    "    "
   ]
  },
  {
   "cell_type": "markdown",
   "metadata": {},
   "source": [
    "Write a Python's user-defined function that removes all the additional characters from the string and\n",
    "convert it finally to lower case using built-in lower(). eg: If the string is \"Dr. Darshan Ingle @AIML Trainer\",\n",
    "then the output be \"drdarshaningleaimltrainer\"."
   ]
  },
  {
   "cell_type": "code",
   "execution_count": null,
   "metadata": {},
   "outputs": [],
   "source": [
    "def modify(X):\n",
    "    d=''\n",
    "    for i in range(len(X)):\n",
    "        if X[i].isalpha():\n",
    "            d=d+X[i]\n",
    "        else:\n",
    "            continue\n",
    "    print(d.lower())\n",
    "x=input('Enter string')\n",
    "modify(X)\n",
    "    "
   ]
  },
  {
   "cell_type": "code",
   "execution_count": null,
   "metadata": {},
   "outputs": [],
   "source": []
  }
 ],
 "metadata": {
  "kernelspec": {
   "display_name": "Python 3",
   "language": "python",
   "name": "python3"
  },
  "language_info": {
   "codemirror_mode": {
    "name": "ipython",
    "version": 3
   },
   "file_extension": ".py",
   "mimetype": "text/x-python",
   "name": "python",
   "nbconvert_exporter": "python",
   "pygments_lexer": "ipython3",
   "version": "3.7.1"
  }
 },
 "nbformat": 4,
 "nbformat_minor": 2
}
