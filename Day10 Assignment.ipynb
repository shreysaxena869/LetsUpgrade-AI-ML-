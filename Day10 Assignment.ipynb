{
 "cells": [
  {
   "cell_type": "markdown",
   "metadata": {},
   "source": [
    "Q1-Create an element-wise comparison (greater, greater_equal, less and less_equal) of two given arrays"
   ]
  },
  {
   "cell_type": "code",
   "execution_count": 4,
   "metadata": {},
   "outputs": [
    {
     "name": "stdout",
     "output_type": "stream",
     "text": [
      "Greater [False False  True]\n",
      "Greater_equal [False False  True]\n",
      "Less [ True  True False]\n",
      "Less_equal [ True  True False]\n"
     ]
    }
   ],
   "source": [
    "import numpy as np\n",
    "a=np.array([1,2,3])\n",
    "b=np.array([4,5,1])\n",
    "print(\"Greater\",np.greater(a,b))\n",
    "print(\"Greater_equal\",np.greater_equal(a,b))\n",
    "print(\"Less\",np.less(a,b))\n",
    "print(\"Less_equal\",np.less_equal(a,b))"
   ]
  },
  {
   "cell_type": "markdown",
   "metadata": {},
   "source": [
    "Q2-Write a NumPy program to create an array of 10 zeros,10 ones, 10 fives"
   ]
  },
  {
   "cell_type": "code",
   "execution_count": 5,
   "metadata": {},
   "outputs": [
    {
     "name": "stdout",
     "output_type": "stream",
     "text": [
      "[0. 0. 0. 0. 0. 0. 0. 0. 0. 0.]\n",
      "[1. 1. 1. 1. 1. 1. 1. 1. 1. 1.]\n",
      "[5. 5. 5. 5. 5. 5. 5. 5. 5. 5.]\n"
     ]
    }
   ],
   "source": [
    "a=np.zeros(10)\n",
    "b=np.ones(10)\n",
    "c=5*np.ones(10)\n",
    "print(a)\n",
    "print(b)\n",
    "print(c)"
   ]
  },
  {
   "cell_type": "markdown",
   "metadata": {},
   "source": [
    "Q3-Write a NumPy program to compute sum of all elements, sum of each column and sum of each row of a\n",
    "given array"
   ]
  },
  {
   "cell_type": "code",
   "execution_count": 8,
   "metadata": {},
   "outputs": [
    {
     "name": "stdout",
     "output_type": "stream",
     "text": [
      "Sum of all elemnt 15\n",
      "Sum of each column [4 6 5]\n",
      "Sum of each row [6 9]\n"
     ]
    }
   ],
   "source": [
    "a=np.array([[1,2,3],[3,4,2]])\n",
    "print(\"Sum of all elemnt\",np.sum(a))\n",
    "print(\"Sum of each column\",np.sum(a,axis=0))\n",
    "print(\"Sum of each row\",np.sum(a,axis=1))"
   ]
  },
  {
   "cell_type": "markdown",
   "metadata": {},
   "source": [
    "Q4-Write a NumPy program to add, subtract, multiply, divide arguments element-wise"
   ]
  },
  {
   "cell_type": "code",
   "execution_count": 9,
   "metadata": {},
   "outputs": [
    {
     "name": "stdout",
     "output_type": "stream",
     "text": [
      "Add: 5.0\n",
      "Subtract: -3.0\n",
      "Multiply: 4.0\n",
      "Divide: 0.25\n"
     ]
    }
   ],
   "source": [
    "print(\"Add:\",np.add(1.0, 4.0))\n",
    "print(\"Subtract:\",np.subtract(1.0, 4.0))\n",
    "print(\"Multiply:\",np.multiply(1.0, 4.0))\n",
    "print(\"Divide:\",np.divide(1.0, 4.0))"
   ]
  },
  {
   "cell_type": "markdown",
   "metadata": {},
   "source": [
    "Q5-Write a NumPy program to compute the trigonometric sine, cosine and tangent array of angles given in\n",
    "degree"
   ]
  },
  {
   "cell_type": "code",
   "execution_count": 12,
   "metadata": {},
   "outputs": [
    {
     "name": "stdout",
     "output_type": "stream",
     "text": [
      "sine:\n",
      "[0.         0.5        0.70710678 0.8660254  1.        ]\n",
      "cosine:\n",
      "[1.00000000e+00 8.66025404e-01 7.07106781e-01 5.00000000e-01\n",
      " 6.12323400e-17]\n",
      "tangent:\n",
      "[0.00000000e+00 5.77350269e-01 1.00000000e+00 1.73205081e+00\n",
      " 1.63312394e+16]\n"
     ]
    }
   ],
   "source": [
    "degree=np.array((0., 30., 45., 60., 90.))\n",
    "print(\"sine:\")\n",
    "print(np.sin( degree* np.pi / 180.))\n",
    "print(\"cosine:\")\n",
    "print(np.cos(degree * np.pi / 180.))\n",
    "print(\"tangent:\")\n",
    "print(np.tan(degree * np.pi / 180.))"
   ]
  },
  {
   "cell_type": "markdown",
   "metadata": {},
   "source": [
    "Q6-Write a Pandas program to create and display a DataFrame from a specified dictionary data which has the\n",
    "index labels"
   ]
  },
  {
   "cell_type": "code",
   "execution_count": 13,
   "metadata": {},
   "outputs": [
    {
     "name": "stdout",
     "output_type": "stream",
     "text": [
      "       name  roll no.  marks\n",
      "1     Rohan        11     89\n",
      "2     Rahul        22     90\n",
      "3  Sinchana        33     96\n",
      "4     Mannu        44     54\n"
     ]
    }
   ],
   "source": [
    "import pandas as pd\n",
    "e={'name':['Rohan','Rahul','Sinchana','Mannu'],'roll no.':[11,22,33,44],'marks':[89,90,96,54]}\n",
    "l=[1,2,3,4]\n",
    "df=pd.DataFrame(e,index=l)\n",
    "print(df)"
   ]
  },
  {
   "cell_type": "markdown",
   "metadata": {},
   "source": [
    "Q7-Write a Pandas program to select the 'name' and 'marks' columns from the following DataFrame"
   ]
  },
  {
   "cell_type": "code",
   "execution_count": 16,
   "metadata": {},
   "outputs": [
    {
     "name": "stdout",
     "output_type": "stream",
     "text": [
      "       name  marks\n",
      "1     Rohan     89\n",
      "2     Rahul     90\n",
      "3  Sinchana     96\n",
      "4     Mannu     54\n"
     ]
    }
   ],
   "source": [
    "print(df[['name','marks']])"
   ]
  },
  {
   "cell_type": "markdown",
   "metadata": {},
   "source": [
    "Q8-Write a Pandas program to join the two given dataframes along rows and assign all data"
   ]
  },
  {
   "cell_type": "code",
   "execution_count": 20,
   "metadata": {},
   "outputs": [
    {
     "name": "stdout",
     "output_type": "stream",
     "text": [
      "       name  roll no.  marks\n",
      "1     Rohan      11.0   89.0\n",
      "2     Rahul      22.0   90.0\n",
      "3  Sinchana      33.0   96.0\n",
      "4     Mannu      44.0   54.0\n",
      "1       Raj      34.0   81.0\n",
      "2    Rakesh       NaN   40.0\n",
      "3       NaN      63.0    NaN\n",
      "4     Manny      42.0   51.0\n"
     ]
    }
   ],
   "source": [
    "e1={'name':['Raj','Rakesh',np.nan,'Manny'],'roll no.':[34,np.nan,63,42],'marks':[81,40,np.nan,51]}\n",
    "l1=[1,2,3,4]\n",
    "df1=pd.DataFrame(e1,index=l1)\n",
    "print(pd.concat([df,df1]))"
   ]
  },
  {
   "cell_type": "markdown",
   "metadata": {},
   "source": [
    "Q9-Write a Pandas program to detect missing values of a given DataFrame. Display True or False.\n"
   ]
  },
  {
   "cell_type": "code",
   "execution_count": 21,
   "metadata": {},
   "outputs": [
    {
     "name": "stdout",
     "output_type": "stream",
     "text": [
      "    name  roll no.  marks\n",
      "1  False     False  False\n",
      "2  False      True  False\n",
      "3   True     False   True\n",
      "4  False     False  False\n"
     ]
    }
   ],
   "source": [
    "print(df1.isnull())"
   ]
  },
  {
   "cell_type": "markdown",
   "metadata": {},
   "source": [
    "Q10-Write a Pandas program to create and display a one-dimensional array-like object containing an array of\n",
    "data"
   ]
  },
  {
   "cell_type": "code",
   "execution_count": 23,
   "metadata": {},
   "outputs": [
    {
     "name": "stdout",
     "output_type": "stream",
     "text": [
      "0    22\n",
      "1     9\n",
      "2     2\n",
      "3    82\n",
      "4     1\n",
      "dtype: int64\n"
     ]
    }
   ],
   "source": [
    "ds = pd.Series([22, 9, 2, 82, 1])\n",
    "print(ds)"
   ]
  }
 ],
 "metadata": {
  "kernelspec": {
   "display_name": "Python 3",
   "language": "python",
   "name": "python3"
  },
  "language_info": {
   "codemirror_mode": {
    "name": "ipython",
    "version": 3
   },
   "file_extension": ".py",
   "mimetype": "text/x-python",
   "name": "python",
   "nbconvert_exporter": "python",
   "pygments_lexer": "ipython3",
   "version": "3.7.1"
  }
 },
 "nbformat": 4,
 "nbformat_minor": 2
}
